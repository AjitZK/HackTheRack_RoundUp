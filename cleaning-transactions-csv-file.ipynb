{
 "cells": [
  {
   "cell_type": "code",
   "execution_count": 1,
   "metadata": {},
   "outputs": [],
   "source": [
    "import pandas as pd\n",
    "import numpy as np\n",
    "import datetime\n",
    "df_transactions = pd.read_csv('transactions.csv')"
   ]
  },
  {
   "cell_type": "code",
   "execution_count": 2,
   "metadata": {},
   "outputs": [],
   "source": [
    "###################update date format###################\n",
    "date_format = '%Y-%m-%d'\n",
    "\n",
    "df_transactions['Date'] = pd.to_datetime(df_transactions['Date'],format=date_format)\n",
    " #check max txn date\n",
    "max_date = df_transactions['Date'].max()\n",
    "d = datetime.timedelta(1)\n",
    "today = max_date + d\n",
    "\n",
    "#df_transactions['Member ID'] = df_transactions['Member ID'].astype(str)\n",
    "#df_transactions['Trans ID'] = df_transactions['Trans ID'].astype(str)\n",
    "\n",
    "###################data preview###################\n",
    "# df_transactions.head()"
   ]
  },
  {
   "cell_type": "code",
   "execution_count": 3,
   "metadata": {},
   "outputs": [],
   "source": [
    "#print(df_transactions.describe())  #-ve field: Sold Qty, Amount\n",
    "#print(df_transactions.info())\n",
    "#print(df_transactions.shape)  #(2759843, 16)"
   ]
  },
  {
   "cell_type": "code",
   "execution_count": 4,
   "metadata": {},
   "outputs": [],
   "source": [
    "#drop duplicate (2622316, 16)\n",
    "df_transactions.drop_duplicates(keep='first', inplace=True) "
   ]
  },
  {
   "cell_type": "code",
   "execution_count": 5,
   "metadata": {},
   "outputs": [],
   "source": [
    "#replace member id with trans id if null\n",
    "\n",
    "df_transactions['Member ID'] = np.where(df_transactions['Member ID'].isnull(),df_transactions['Trans ID'],df_transactions['Member ID']) "
   ]
  },
  {
   "cell_type": "code",
   "execution_count": 6,
   "metadata": {},
   "outputs": [],
   "source": [
    "df_transactions['Member ID'] = df_transactions['Member ID'].astype('int64')"
   ]
  },
  {
   "cell_type": "code",
   "execution_count": 7,
   "metadata": {},
   "outputs": [
    {
     "name": "stdout",
     "output_type": "stream",
     "text": [
      "(2077101, 16)\n",
      "Store ID                 0\n",
      "Store Type               0\n",
      "Trans ID                 0\n",
      "Date                     0\n",
      "Time                     0\n",
      "Member ID                0\n",
      "Member Grade       1765936\n",
      "Gender             1777619\n",
      "Member Birthday    1806638\n",
      "Prod Name (Chi)          0\n",
      "Dept                     0\n",
      "Cat                      0\n",
      "Subcat                 783\n",
      "Sold Qty                 0\n",
      "MOP                      0\n",
      "Amount                   0\n",
      "dtype: int64\n"
     ]
    }
   ],
   "source": [
    "#select +ve price only\n",
    "df_pos = df_transactions[(df_transactions['Sold Qty'] > 0) & (df_transactions['Amount'] > 0)]\n",
    "print(df_pos.shape) #(2077101, 16)\n",
    "print(df_pos.isnull().sum())  #783 is null for Subcat"
   ]
  },
  {
   "cell_type": "code",
   "execution_count": 8,
   "metadata": {},
   "outputs": [
    {
     "name": "stderr",
     "output_type": "stream",
     "text": [
      "C:\\Users\\Ajit Krishna\\Anaconda3\\lib\\site-packages\\pandas\\core\\indexing.py:543: SettingWithCopyWarning: \n",
      "A value is trying to be set on a copy of a slice from a DataFrame.\n",
      "Try using .loc[row_indexer,col_indexer] = value instead\n",
      "\n",
      "See the caveats in the documentation: http://pandas.pydata.org/pandas-docs/stable/indexing.html#indexing-view-versus-copy\n",
      "  self.obj[item] = s\n"
     ]
    }
   ],
   "source": [
    "#a = df_pos[df_pos['Subcat'].isnull()]\n",
    "#a['Prod Name (Chi)'].unique()\n",
    "\n",
    "df_pos.loc[(df_pos['Prod Name (Chi)'] == 'Ã§ÂÂÃ©ÂÂÃ¥Â°ÂÃ¦Â¥Â­Ã©Â¦ÂÃ¥ÂÂ£Ã§ÂÂ 8Ã§Â²ÂÃ¨Â£Â')&(df_pos['Subcat'].isnull()), 'Subcat']= 'Gum'"
   ]
  },
  {
   "cell_type": "code",
   "execution_count": 9,
   "metadata": {},
   "outputs": [
    {
     "data": {
      "text/html": [
       "<div>\n",
       "<style scoped>\n",
       "    .dataframe tbody tr th:only-of-type {\n",
       "        vertical-align: middle;\n",
       "    }\n",
       "\n",
       "    .dataframe tbody tr th {\n",
       "        vertical-align: top;\n",
       "    }\n",
       "\n",
       "    .dataframe thead th {\n",
       "        text-align: right;\n",
       "    }\n",
       "</style>\n",
       "<table border=\"1\" class=\"dataframe\">\n",
       "  <thead>\n",
       "    <tr style=\"text-align: right;\">\n",
       "      <th></th>\n",
       "      <th>Store ID</th>\n",
       "      <th>Store Type</th>\n",
       "      <th>Trans ID</th>\n",
       "      <th>Date</th>\n",
       "      <th>Time</th>\n",
       "      <th>Member ID</th>\n",
       "      <th>Member Grade</th>\n",
       "      <th>Gender</th>\n",
       "      <th>Member Birthday</th>\n",
       "      <th>Prod Name (Chi)</th>\n",
       "      <th>Dept</th>\n",
       "      <th>Cat</th>\n",
       "      <th>Subcat</th>\n",
       "      <th>Sold Qty</th>\n",
       "      <th>MOP</th>\n",
       "      <th>Amount</th>\n",
       "    </tr>\n",
       "  </thead>\n",
       "  <tbody>\n",
       "    <tr>\n",
       "      <th>0</th>\n",
       "      <td>27</td>\n",
       "      <td>HSR - HIGH STREET RESIDENTIAL</td>\n",
       "      <td>8151518418</td>\n",
       "      <td>2018-04-01</td>\n",
       "      <td>06:06:47</td>\n",
       "      <td>8151518418</td>\n",
       "      <td>NaN</td>\n",
       "      <td>NaN</td>\n",
       "      <td>NaN</td>\n",
       "      <td>東方日報每份</td>\n",
       "      <td>Publications</td>\n",
       "      <td>Newspaper</td>\n",
       "      <td>Newspaper (General)</td>\n",
       "      <td>1</td>\n",
       "      <td>現金</td>\n",
       "      <td>8.0</td>\n",
       "    </tr>\n",
       "    <tr>\n",
       "      <th>3</th>\n",
       "      <td>27</td>\n",
       "      <td>HSR - HIGH STREET RESIDENTIAL</td>\n",
       "      <td>8151518417</td>\n",
       "      <td>2018-04-01</td>\n",
       "      <td>06:07:29</td>\n",
       "      <td>8151518417</td>\n",
       "      <td>NaN</td>\n",
       "      <td>NaN</td>\n",
       "      <td>NaN</td>\n",
       "      <td>東方日報每份</td>\n",
       "      <td>Publications</td>\n",
       "      <td>Newspaper</td>\n",
       "      <td>Newspaper (General)</td>\n",
       "      <td>1</td>\n",
       "      <td>現金</td>\n",
       "      <td>8.0</td>\n",
       "    </tr>\n",
       "    <tr>\n",
       "      <th>6</th>\n",
       "      <td>27</td>\n",
       "      <td>HSR - HIGH STREET RESIDENTIAL</td>\n",
       "      <td>8151518416</td>\n",
       "      <td>2018-04-01</td>\n",
       "      <td>06:07:48</td>\n",
       "      <td>8151518416</td>\n",
       "      <td>NaN</td>\n",
       "      <td>NaN</td>\n",
       "      <td>NaN</td>\n",
       "      <td>東方日報每份</td>\n",
       "      <td>Publications</td>\n",
       "      <td>Newspaper</td>\n",
       "      <td>Newspaper (General)</td>\n",
       "      <td>1</td>\n",
       "      <td>Octopus</td>\n",
       "      <td>8.0</td>\n",
       "    </tr>\n",
       "    <tr>\n",
       "      <th>7</th>\n",
       "      <td>27</td>\n",
       "      <td>HSR - HIGH STREET RESIDENTIAL</td>\n",
       "      <td>8151518416</td>\n",
       "      <td>2018-04-01</td>\n",
       "      <td>06:07:55</td>\n",
       "      <td>8151518416</td>\n",
       "      <td>NaN</td>\n",
       "      <td>NaN</td>\n",
       "      <td>NaN</td>\n",
       "      <td>東方日報每份</td>\n",
       "      <td>Publications</td>\n",
       "      <td>Newspaper</td>\n",
       "      <td>Newspaper (General)</td>\n",
       "      <td>1</td>\n",
       "      <td>Octopus</td>\n",
       "      <td>8.0</td>\n",
       "    </tr>\n",
       "    <tr>\n",
       "      <th>10</th>\n",
       "      <td>27</td>\n",
       "      <td>HSR - HIGH STREET RESIDENTIAL</td>\n",
       "      <td>8151518415</td>\n",
       "      <td>2018-04-01</td>\n",
       "      <td>06:09:38</td>\n",
       "      <td>8151518415</td>\n",
       "      <td>NaN</td>\n",
       "      <td>NaN</td>\n",
       "      <td>NaN</td>\n",
       "      <td>東方日報每份</td>\n",
       "      <td>Publications</td>\n",
       "      <td>Newspaper</td>\n",
       "      <td>Newspaper (General)</td>\n",
       "      <td>1</td>\n",
       "      <td>現金</td>\n",
       "      <td>8.0</td>\n",
       "    </tr>\n",
       "  </tbody>\n",
       "</table>\n",
       "</div>"
      ],
      "text/plain": [
       "    Store ID                     Store Type    Trans ID       Date      Time  \\\n",
       "0         27  HSR - HIGH STREET RESIDENTIAL  8151518418 2018-04-01  06:06:47   \n",
       "3         27  HSR - HIGH STREET RESIDENTIAL  8151518417 2018-04-01  06:07:29   \n",
       "6         27  HSR - HIGH STREET RESIDENTIAL  8151518416 2018-04-01  06:07:48   \n",
       "7         27  HSR - HIGH STREET RESIDENTIAL  8151518416 2018-04-01  06:07:55   \n",
       "10        27  HSR - HIGH STREET RESIDENTIAL  8151518415 2018-04-01  06:09:38   \n",
       "\n",
       "     Member ID Member Grade Gender Member Birthday Prod Name (Chi)  \\\n",
       "0   8151518418          NaN    NaN             NaN          東方日報每份   \n",
       "3   8151518417          NaN    NaN             NaN          東方日報每份   \n",
       "6   8151518416          NaN    NaN             NaN          東方日報每份   \n",
       "7   8151518416          NaN    NaN             NaN          東方日報每份   \n",
       "10  8151518415          NaN    NaN             NaN          東方日報每份   \n",
       "\n",
       "            Dept                             Cat  \\\n",
       "0   Publications  Newspaper                        \n",
       "3   Publications  Newspaper                        \n",
       "6   Publications  Newspaper                        \n",
       "7   Publications  Newspaper                        \n",
       "10  Publications  Newspaper                        \n",
       "\n",
       "                            Subcat  Sold Qty                             MOP  \\\n",
       "0   Newspaper (General)                    1    現金                             \n",
       "3   Newspaper (General)                    1    現金                             \n",
       "6   Newspaper (General)                    1  Octopus                          \n",
       "7   Newspaper (General)                    1  Octopus                          \n",
       "10  Newspaper (General)                    1    現金                             \n",
       "\n",
       "    Amount  \n",
       "0      8.0  \n",
       "3      8.0  \n",
       "6      8.0  \n",
       "7      8.0  \n",
       "10     8.0  "
      ]
     },
     "execution_count": 9,
     "metadata": {},
     "output_type": "execute_result"
    }
   ],
   "source": [
    "df_pos.head()"
   ]
  },
  {
   "cell_type": "code",
   "execution_count": 10,
   "metadata": {},
   "outputs": [],
   "source": [
    "df_pos.to_csv('df_transactions_clean.csv',index=False, encoding='utf-8')"
   ]
  }
 ],
 "metadata": {
  "kernelspec": {
   "display_name": "Python 3",
   "language": "python",
   "name": "python3"
  },
  "language_info": {
   "codemirror_mode": {
    "name": "ipython",
    "version": 3
   },
   "file_extension": ".py",
   "mimetype": "text/x-python",
   "name": "python",
   "nbconvert_exporter": "python",
   "pygments_lexer": "ipython3",
   "version": "3.6.5"
  }
 },
 "nbformat": 4,
 "nbformat_minor": 1
}
